{
 "cells": [
  {
   "cell_type": "code",
   "execution_count": 7,
   "id": "8959b655-1cda-456d-b582-9f1816b97578",
   "metadata": {},
   "outputs": [],
   "source": [
    "web2=\"https://physics.nist.gov/PhysRefData/XrayMassCoef/tab2.html\"\n",
    "web4=\"https://physics.nist.gov/PhysRefData/XrayMassCoef/tab4.html\""
   ]
  },
  {
   "cell_type": "code",
   "execution_count": 8,
   "id": "0c577e16-0532-4a88-b2a4-973650c4c6ca",
   "metadata": {},
   "outputs": [],
   "source": [
    "import pandas as pd\n",
    "import numpy as np"
   ]
  },
  {
   "cell_type": "code",
   "execution_count": 21,
   "id": "6f869c1c-80a7-48a5-8153-b89569c92cb0",
   "metadata": {},
   "outputs": [],
   "source": [
    "from bs4 import BeautifulSoup\n",
    "from urllib.request import Request, urlopen\n",
    "import re\n",
    "\n",
    "req = Request(web4)\n",
    "html_page = urlopen(req)\n",
    "\n",
    "soup = BeautifulSoup(html_page, \"lxml\")\n",
    "\n",
    "links = []\n",
    "name=[]\n",
    "for link in soup.findAll('a'):\n",
    "    links.append('https://physics.nist.gov/PhysRefData/XrayMassCoef/'+link.get('href'))\n",
    "    name.append(link.get('href'))\n",
    "\n",
    "#print(links)"
   ]
  },
  {
   "cell_type": "code",
   "execution_count": 22,
   "id": "055c939e-09e9-4b82-8284-c5295dc1b6d7",
   "metadata": {},
   "outputs": [],
   "source": [
    "elementos=links[2:-6]\n",
    "nombre=[X.replace('ComTab/',\"\")[:-5] for X in name[2:-6]]"
   ]
  },
  {
   "cell_type": "code",
   "execution_count": 53,
   "id": "0c73ede1-c22c-44c9-a0cc-987248153f36",
   "metadata": {},
   "outputs": [
    {
     "name": "stdout",
     "output_type": "stream",
     "text": [
      "C-552 Air-equivalent Plastic\n"
     ]
    }
   ],
   "source": [
    "SS=[]\n",
    "mu=[]\n",
    "muen=[]\n",
    "for elem in elementos:\n",
    "    url=elem\n",
    "    A=pd.read_html(url, flavor = 'bs4')[1]\n",
    "    if (A[A.eq('Energy').any(1)][2].values[0]=='μ/ρ'):\n",
    "        A.dropna(subset = [0], inplace=True)\n",
    "        B=A[[0,2,4]]\n",
    "    else:\n",
    "        A.dropna(subset = [2], inplace=True)\n",
    "        B=A[[2,4,6]]\n",
    "    B = B[4:]\n",
    "    B.columns=['Energy','mu','muen']\n",
    "    B=B.reset_index()\n",
    "    B.drop('index',inplace=True,axis=1)\n",
    "    B=B.set_index('Energy')\n",
    "    SS.append(A[0][0].replace(' HTML table format',\"\"))\n",
    "    try:\n",
    "        mu.append(B.astype(float).to_dict('series')['mu'])\n",
    "        muen.append(B.astype(float).to_dict('series')['muen'])\n",
    "    #mu.append(B.to_dict('series')['mu'])\n",
    "    #muen.append(B.to_dict('series')['muen'])\n",
    "    except:\n",
    "        print(A[0][0].replace(' HTML table format',\"\"))"
   ]
  },
  {
   "cell_type": "code",
   "execution_count": 61,
   "id": "570f98dd-d997-4319-8096-76ac713cda78",
   "metadata": {},
   "outputs": [],
   "source": [
    "SS.remove('C-552 Air-equivalent Plastic')"
   ]
  },
  {
   "cell_type": "code",
   "execution_count": 62,
   "id": "11bf3c7c-a66f-4c1f-a694-a131640a5e33",
   "metadata": {},
   "outputs": [
    {
     "data": {
      "text/plain": [
       "['A-150 Tissue-Equivalent Plastic',\n",
       " 'Glass, Lead',\n",
       " 'Adipose Tissue (ICRU-44)',\n",
       " 'Lithium Fluride',\n",
       " 'Air, Dry (Near Sea Level)',\n",
       " 'Lithium Tetraborate',\n",
       " 'Alanine',\n",
       " 'Lung Tissue (ICRU-44)',\n",
       " 'Bakelite',\n",
       " 'Magnesium Tetraborate',\n",
       " 'Blood, Whole (ICRU-44)',\n",
       " 'Mercuric Iodide',\n",
       " 'Bone, Cortical (ICRU-44)',\n",
       " 'Muscle, Skeletal (ICRU-44)',\n",
       " 'B-100 Bone-Equivalent Plastic',\n",
       " 'Ovary (ICRU-44)',\n",
       " 'Brain, Grey/White Matter (ICRU-44)',\n",
       " 'Photographic Emulsion (Kodak Type AA)',\n",
       " 'Breast Tissue (ICRU-44)',\n",
       " 'Photographic Emulsion (Standard Nuclear)',\n",
       " 'Plastic Scintillator (Vinyltoluene)',\n",
       " 'Cadmium Telluride',\n",
       " 'Polyethylene',\n",
       " 'Calcium Fluoride',\n",
       " 'Polyethylene Terephthalate, \"Mylar\"',\n",
       " 'Calcium Sulfate',\n",
       " 'Polymethyl Methacrylate',\n",
       " '15\\xa0mmol\\xa0L-1 Ceric Ammonium Sulfate Solution',\n",
       " 'Polystyrene',\n",
       " 'Cesium Iodide',\n",
       " 'Polytetrafluoroethylene, \"Teflon\"',\n",
       " 'Concrete, Ordinary',\n",
       " 'Polyvinyl Chloride',\n",
       " 'Concrete, Barite (Type BA)',\n",
       " 'Radiochromic Dye Film (Nylon Base)',\n",
       " 'Eye Lens (ICRU-44)',\n",
       " 'Testis (ICRU-44)',\n",
       " 'Ferrous Sulfate (Standard Fricke)',\n",
       " 'Tissue, Soft (ICRU-44)',\n",
       " 'Gadolinium Oxysulfide',\n",
       " 'Tissue, Soft (ICRU Four-Component)',\n",
       " 'Gafchromic Sensor',\n",
       " 'Tissue-Equivalent Gas (Methane Based)',\n",
       " 'Gallium Arsenide',\n",
       " 'Tissue-Equivalent Gas (Propane Based)',\n",
       " 'Glass, Borosilicate (\"Pyrex\")',\n",
       " 'Water, Liquid']"
      ]
     },
     "execution_count": 62,
     "metadata": {},
     "output_type": "execute_result"
    }
   ],
   "source": [
    "SS"
   ]
  },
  {
   "cell_type": "code",
   "execution_count": 63,
   "id": "61050b90-1a5f-4c30-8141-d2f1a9363587",
   "metadata": {},
   "outputs": [],
   "source": [
    "tabla1=pd.DataFrame(SS,columns=['Material'])"
   ]
  },
  {
   "cell_type": "code",
   "execution_count": 64,
   "id": "fa41c214-3e0a-4d0c-8a09-88378da5066c",
   "metadata": {},
   "outputs": [],
   "source": [
    "tabla1['mu']=mu"
   ]
  },
  {
   "cell_type": "code",
   "execution_count": 65,
   "id": "1c39405e-68dc-41cf-9959-f98302602b66",
   "metadata": {},
   "outputs": [],
   "source": [
    "tabla1['muen']=muen"
   ]
  },
  {
   "cell_type": "code",
   "execution_count": 71,
   "id": "2a4dd846-684a-4e1f-9c0e-40752ad24da7",
   "metadata": {},
   "outputs": [],
   "source": [
    "resultado=pd.merge(Material,tabla1,on='Material')"
   ]
  },
  {
   "cell_type": "code",
   "execution_count": 74,
   "id": "8541a16e-7b9b-43df-9add-75e8c81c2a62",
   "metadata": {},
   "outputs": [],
   "source": [
    "resultado.to_json('MassAttenuationElements.json',orient='index')"
   ]
  },
  {
   "cell_type": "code",
   "execution_count": 12,
   "id": "2aab9294-c25d-44e1-8736-2b2f62f7a637",
   "metadata": {},
   "outputs": [],
   "source": [
    "xcom_elements={}\n",
    "for i,address in zip(Z,elementos):\n",
    "    xcom_elements[i]=address"
   ]
  },
  {
   "cell_type": "code",
   "execution_count": 17,
   "id": "c1620652-d4ea-4dbe-8fef-e9696ae83cfb",
   "metadata": {},
   "outputs": [],
   "source": [
    "Material=pd.read_json('Compounds.json')"
   ]
  },
  {
   "cell_type": "code",
   "execution_count": 23,
   "id": "902a7bf8-b5b2-40b3-80d6-4c815df2d6cc",
   "metadata": {},
   "outputs": [
    {
     "data": {
      "text/plain": [
       "'https://physics.nist.gov/PhysRefData/XrayMassCoef/ComTab/a150.html'"
      ]
     },
     "execution_count": 23,
     "metadata": {},
     "output_type": "execute_result"
    }
   ],
   "source": [
    "elementos[0]"
   ]
  },
  {
   "cell_type": "code",
   "execution_count": 38,
   "id": "30da54dd-5042-4bb4-a957-cad5253e11d3",
   "metadata": {},
   "outputs": [],
   "source": [
    "A=pd.read_html(elementos[2], flavor = 'bs4')[1]"
   ]
  },
  {
   "cell_type": "code",
   "execution_count": 39,
   "id": "e5cf6ca7-da10-4075-a5fd-e47ebb4ed03a",
   "metadata": {},
   "outputs": [
    {
     "data": {
      "text/plain": [
       "'Adipose Tissue (ICRU-44)'"
      ]
     },
     "execution_count": 39,
     "metadata": {},
     "output_type": "execute_result"
    }
   ],
   "source": [
    "A[0][0].replace(' HTML table format',\"\")"
   ]
  },
  {
   "cell_type": "code",
   "execution_count": 40,
   "id": "ec2b0dcc-76e8-4aba-a80b-2629c11f6cd2",
   "metadata": {},
   "outputs": [
    {
     "data": {
      "text/html": [
       "<div>\n",
       "<style scoped>\n",
       "    .dataframe tbody tr th:only-of-type {\n",
       "        vertical-align: middle;\n",
       "    }\n",
       "\n",
       "    .dataframe tbody tr th {\n",
       "        vertical-align: top;\n",
       "    }\n",
       "\n",
       "    .dataframe thead th {\n",
       "        text-align: right;\n",
       "    }\n",
       "</style>\n",
       "<table border=\"1\" class=\"dataframe\">\n",
       "  <thead>\n",
       "    <tr style=\"text-align: right;\">\n",
       "      <th></th>\n",
       "      <th>Material</th>\n",
       "      <th>&lt;Z/A&gt;</th>\n",
       "      <th>I</th>\n",
       "      <th>Density</th>\n",
       "      <th>Composition</th>\n",
       "    </tr>\n",
       "  </thead>\n",
       "  <tbody>\n",
       "    <tr>\n",
       "      <th>1</th>\n",
       "      <td>Adipose Tissue (ICRU-44)</td>\n",
       "      <td>0.55579</td>\n",
       "      <td>64.8</td>\n",
       "      <td>0.95</td>\n",
       "      <td>{'1': '0.114000', '6': '0.598000', '7': '0.007...</td>\n",
       "    </tr>\n",
       "  </tbody>\n",
       "</table>\n",
       "</div>"
      ],
      "text/plain": [
       "                   Material    <Z/A>     I  Density  \\\n",
       "1  Adipose Tissue (ICRU-44)  0.55579  64.8     0.95   \n",
       "\n",
       "                                         Composition  \n",
       "1  {'1': '0.114000', '6': '0.598000', '7': '0.007...  "
      ]
     },
     "execution_count": 40,
     "metadata": {},
     "output_type": "execute_result"
    }
   ],
   "source": [
    "Material[Material['Material']==A[0][0].replace(' HTML table format',\"\")]"
   ]
  },
  {
   "cell_type": "code",
   "execution_count": 57,
   "id": "1e4271ce-0822-4c19-9716-99ad9b9e46a5",
   "metadata": {},
   "outputs": [],
   "source": [
    "Material=Material.drop('Unnamed: 0',axis=1)"
   ]
  },
  {
   "cell_type": "code",
   "execution_count": 58,
   "id": "cb463cce-f76f-492a-b9c8-4a8f8bf73d40",
   "metadata": {},
   "outputs": [],
   "source": [
    "Material.index = np.arange(1, len(Material) + 1)"
   ]
  },
  {
   "cell_type": "code",
   "execution_count": 59,
   "id": "fd943899-4469-4f23-ae15-611e4a3fb801",
   "metadata": {},
   "outputs": [
    {
     "data": {
      "text/html": [
       "<div>\n",
       "<style scoped>\n",
       "    .dataframe tbody tr th:only-of-type {\n",
       "        vertical-align: middle;\n",
       "    }\n",
       "\n",
       "    .dataframe tbody tr th {\n",
       "        vertical-align: top;\n",
       "    }\n",
       "\n",
       "    .dataframe thead th {\n",
       "        text-align: right;\n",
       "    }\n",
       "</style>\n",
       "<table border=\"1\" class=\"dataframe\">\n",
       "  <thead>\n",
       "    <tr style=\"text-align: right;\">\n",
       "      <th></th>\n",
       "      <th>Z</th>\n",
       "      <th>Element</th>\n",
       "      <th>Z/A</th>\n",
       "      <th>I</th>\n",
       "      <th>Density</th>\n",
       "    </tr>\n",
       "  </thead>\n",
       "  <tbody>\n",
       "    <tr>\n",
       "      <th>1</th>\n",
       "      <td>H</td>\n",
       "      <td>Hydrogen</td>\n",
       "      <td>0.99212</td>\n",
       "      <td>19.2</td>\n",
       "      <td>0.000084</td>\n",
       "    </tr>\n",
       "    <tr>\n",
       "      <th>2</th>\n",
       "      <td>He</td>\n",
       "      <td>Helium</td>\n",
       "      <td>0.49968</td>\n",
       "      <td>41.8</td>\n",
       "      <td>0.000166</td>\n",
       "    </tr>\n",
       "    <tr>\n",
       "      <th>3</th>\n",
       "      <td>Li</td>\n",
       "      <td>Lithium</td>\n",
       "      <td>0.43221</td>\n",
       "      <td>40.0</td>\n",
       "      <td>0.534000</td>\n",
       "    </tr>\n",
       "    <tr>\n",
       "      <th>4</th>\n",
       "      <td>Be</td>\n",
       "      <td>Beryllium</td>\n",
       "      <td>0.44384</td>\n",
       "      <td>63.7</td>\n",
       "      <td>1.848000</td>\n",
       "    </tr>\n",
       "    <tr>\n",
       "      <th>5</th>\n",
       "      <td>B</td>\n",
       "      <td>Boron</td>\n",
       "      <td>0.46245</td>\n",
       "      <td>76.0</td>\n",
       "      <td>2.370000</td>\n",
       "    </tr>\n",
       "    <tr>\n",
       "      <th>...</th>\n",
       "      <td>...</td>\n",
       "      <td>...</td>\n",
       "      <td>...</td>\n",
       "      <td>...</td>\n",
       "      <td>...</td>\n",
       "    </tr>\n",
       "    <tr>\n",
       "      <th>88</th>\n",
       "      <td>Ra</td>\n",
       "      <td>Radium</td>\n",
       "      <td>0.38934</td>\n",
       "      <td>826.0</td>\n",
       "      <td>5.000000</td>\n",
       "    </tr>\n",
       "    <tr>\n",
       "      <th>89</th>\n",
       "      <td>Ac</td>\n",
       "      <td>Actinium</td>\n",
       "      <td>0.39202</td>\n",
       "      <td>841.0</td>\n",
       "      <td>10.070000</td>\n",
       "    </tr>\n",
       "    <tr>\n",
       "      <th>90</th>\n",
       "      <td>Th</td>\n",
       "      <td>Thorium</td>\n",
       "      <td>0.38787</td>\n",
       "      <td>847.0</td>\n",
       "      <td>11.720000</td>\n",
       "    </tr>\n",
       "    <tr>\n",
       "      <th>91</th>\n",
       "      <td>Pa</td>\n",
       "      <td>Protactinium</td>\n",
       "      <td>0.39388</td>\n",
       "      <td>878.0</td>\n",
       "      <td>15.370000</td>\n",
       "    </tr>\n",
       "    <tr>\n",
       "      <th>92</th>\n",
       "      <td>U</td>\n",
       "      <td>Uranium</td>\n",
       "      <td>0.38651</td>\n",
       "      <td>890.0</td>\n",
       "      <td>18.950000</td>\n",
       "    </tr>\n",
       "  </tbody>\n",
       "</table>\n",
       "<p>92 rows × 5 columns</p>\n",
       "</div>"
      ],
      "text/plain": [
       "     Z       Element      Z/A      I    Density\n",
       "1    H      Hydrogen  0.99212   19.2   0.000084\n",
       "2   He        Helium  0.49968   41.8   0.000166\n",
       "3   Li       Lithium  0.43221   40.0   0.534000\n",
       "4   Be     Beryllium  0.44384   63.7   1.848000\n",
       "5    B         Boron  0.46245   76.0   2.370000\n",
       "..  ..           ...      ...    ...        ...\n",
       "88  Ra        Radium  0.38934  826.0   5.000000\n",
       "89  Ac      Actinium  0.39202  841.0  10.070000\n",
       "90  Th       Thorium  0.38787  847.0  11.720000\n",
       "91  Pa  Protactinium  0.39388  878.0  15.370000\n",
       "92   U       Uranium  0.38651  890.0  18.950000\n",
       "\n",
       "[92 rows x 5 columns]"
      ]
     },
     "execution_count": 59,
     "metadata": {},
     "output_type": "execute_result"
    }
   ],
   "source": [
    "Material"
   ]
  },
  {
   "cell_type": "code",
   "execution_count": 67,
   "id": "e74341a1-ed75-4e5b-88bb-b2240ffb5816",
   "metadata": {},
   "outputs": [],
   "source": [
    "mu=[]\n",
    "muen=[]\n",
    "for i,row in Material.iterrows():\n",
    "    url=xcom_elements[i]\n",
    "    A=pd.read_html(url, flavor = 'bs4')[0]\n",
    "    \n",
    "    if (A[A.eq('Energy').any(1)][2].values[0]=='μ/ρ'):\n",
    "        A.dropna(subset = [0], inplace=True)\n",
    "        B=A[[0,2,4]]\n",
    "    else:\n",
    "        A.dropna(subset = [2], inplace=True)\n",
    "        B=A[[2,4,6]]\n",
    "    B = B[4:]\n",
    "    B.columns=['Energy','mu','muen']\n",
    "    B=B.reset_index()\n",
    "    B.drop('index',inplace=True,axis=1)\n",
    "    B=B.set_index('Energy')\n",
    "    mu.append(B.astype(float).to_dict('series')['mu'])\n",
    "    muen.append(B.astype(float).to_dict('series')['muen'])"
   ]
  },
  {
   "cell_type": "code",
   "execution_count": 69,
   "id": "b050913c-58d4-474d-a62a-c9bc0b314b8e",
   "metadata": {},
   "outputs": [],
   "source": [
    "Material['mu']=mu"
   ]
  },
  {
   "cell_type": "code",
   "execution_count": 70,
   "id": "d85843fd-86d3-4018-9e13-ee0440637d26",
   "metadata": {},
   "outputs": [],
   "source": [
    "Material['muen']=muen"
   ]
  },
  {
   "cell_type": "code",
   "execution_count": 71,
   "id": "a9aeacf2-0110-4c6d-b2f4-3c78e5e765e4",
   "metadata": {},
   "outputs": [
    {
     "data": {
      "text/html": [
       "<div>\n",
       "<style scoped>\n",
       "    .dataframe tbody tr th:only-of-type {\n",
       "        vertical-align: middle;\n",
       "    }\n",
       "\n",
       "    .dataframe tbody tr th {\n",
       "        vertical-align: top;\n",
       "    }\n",
       "\n",
       "    .dataframe thead th {\n",
       "        text-align: right;\n",
       "    }\n",
       "</style>\n",
       "<table border=\"1\" class=\"dataframe\">\n",
       "  <thead>\n",
       "    <tr style=\"text-align: right;\">\n",
       "      <th></th>\n",
       "      <th>Z</th>\n",
       "      <th>Element</th>\n",
       "      <th>Z/A</th>\n",
       "      <th>I</th>\n",
       "      <th>Density</th>\n",
       "      <th>mu</th>\n",
       "      <th>muen</th>\n",
       "    </tr>\n",
       "  </thead>\n",
       "  <tbody>\n",
       "    <tr>\n",
       "      <th>1</th>\n",
       "      <td>H</td>\n",
       "      <td>Hydrogen</td>\n",
       "      <td>0.99212</td>\n",
       "      <td>19.2</td>\n",
       "      <td>0.000084</td>\n",
       "      <td>Energy\n",
       "1.00000E-03    7.21700\n",
       "1.50000E-03    2...</td>\n",
       "      <td>Energy\n",
       "1.00000E-03    6.820000\n",
       "1.50000E-03    ...</td>\n",
       "    </tr>\n",
       "    <tr>\n",
       "      <th>2</th>\n",
       "      <td>He</td>\n",
       "      <td>Helium</td>\n",
       "      <td>0.49968</td>\n",
       "      <td>41.8</td>\n",
       "      <td>0.000166</td>\n",
       "      <td>Energy\n",
       "1.00000E-03    60.84000\n",
       "1.50000E-03    ...</td>\n",
       "      <td>Energy\n",
       "1.00000E-03    60.450000\n",
       "1.50000E-03   ...</td>\n",
       "    </tr>\n",
       "    <tr>\n",
       "      <th>3</th>\n",
       "      <td>Li</td>\n",
       "      <td>Lithium</td>\n",
       "      <td>0.43221</td>\n",
       "      <td>40.0</td>\n",
       "      <td>0.534000</td>\n",
       "      <td>Energy\n",
       "1.00000E-03    233.90000\n",
       "1.50000E-03   ...</td>\n",
       "      <td>Energy\n",
       "1.00000E-03    233.500000\n",
       "1.50000E-03  ...</td>\n",
       "    </tr>\n",
       "    <tr>\n",
       "      <th>4</th>\n",
       "      <td>Be</td>\n",
       "      <td>Beryllium</td>\n",
       "      <td>0.44384</td>\n",
       "      <td>63.7</td>\n",
       "      <td>1.848000</td>\n",
       "      <td>Energy\n",
       "1.00000E-03    604.10000\n",
       "1.50000E-03   ...</td>\n",
       "      <td>Energy\n",
       "1.00000E-03    603.500000\n",
       "1.50000E-03  ...</td>\n",
       "    </tr>\n",
       "    <tr>\n",
       "      <th>5</th>\n",
       "      <td>B</td>\n",
       "      <td>Boron</td>\n",
       "      <td>0.46245</td>\n",
       "      <td>76.0</td>\n",
       "      <td>2.370000</td>\n",
       "      <td>Energy\n",
       "1.00000E-03    1229.00000\n",
       "1.50000E-03  ...</td>\n",
       "      <td>Energy\n",
       "1.00000E-03    1228.00000\n",
       "1.50000E-03  ...</td>\n",
       "    </tr>\n",
       "    <tr>\n",
       "      <th>...</th>\n",
       "      <td>...</td>\n",
       "      <td>...</td>\n",
       "      <td>...</td>\n",
       "      <td>...</td>\n",
       "      <td>...</td>\n",
       "      <td>...</td>\n",
       "      <td>...</td>\n",
       "    </tr>\n",
       "    <tr>\n",
       "      <th>88</th>\n",
       "      <td>Ra</td>\n",
       "      <td>Radium</td>\n",
       "      <td>0.38934</td>\n",
       "      <td>826.0</td>\n",
       "      <td>5.000000</td>\n",
       "      <td>Energy\n",
       "1.00000E-03    6201.00000\n",
       "1.02840E-03  ...</td>\n",
       "      <td>Energy\n",
       "1.00000E-03    6187.00000\n",
       "1.02840E-03  ...</td>\n",
       "    </tr>\n",
       "    <tr>\n",
       "      <th>89</th>\n",
       "      <td>Ac</td>\n",
       "      <td>Actinium</td>\n",
       "      <td>0.39202</td>\n",
       "      <td>841.0</td>\n",
       "      <td>10.070000</td>\n",
       "      <td>Energy\n",
       "1.00000E-03    6469.00000\n",
       "1.03923E-03  ...</td>\n",
       "      <td>Energy\n",
       "1.00000E-03    6455.00000\n",
       "1.03923E-03  ...</td>\n",
       "    </tr>\n",
       "    <tr>\n",
       "      <th>90</th>\n",
       "      <td>Th</td>\n",
       "      <td>Thorium</td>\n",
       "      <td>0.38787</td>\n",
       "      <td>847.0</td>\n",
       "      <td>11.720000</td>\n",
       "      <td>Energy\n",
       "1.00000E-03    6614.00000\n",
       "1.08088E-03  ...</td>\n",
       "      <td>Energy\n",
       "1.00000E-03    6600.00000\n",
       "1.08088E-03  ...</td>\n",
       "    </tr>\n",
       "    <tr>\n",
       "      <th>91</th>\n",
       "      <td>Pa</td>\n",
       "      <td>Protactinium</td>\n",
       "      <td>0.39388</td>\n",
       "      <td>878.0</td>\n",
       "      <td>15.370000</td>\n",
       "      <td>Energy\n",
       "1.00000E-03    6530.00000\n",
       "1.00334E-03  ...</td>\n",
       "      <td>Energy\n",
       "1.00000E-03    6515.00000\n",
       "1.00334E-03  ...</td>\n",
       "    </tr>\n",
       "    <tr>\n",
       "      <th>92</th>\n",
       "      <td>U</td>\n",
       "      <td>Uranium</td>\n",
       "      <td>0.38651</td>\n",
       "      <td>890.0</td>\n",
       "      <td>18.950000</td>\n",
       "      <td>Energy\n",
       "1.00000E-03    6626.00000\n",
       "1.02220E-03  ...</td>\n",
       "      <td>Energy\n",
       "1.00000E-03    6612.00000\n",
       "1.02220E-03  ...</td>\n",
       "    </tr>\n",
       "  </tbody>\n",
       "</table>\n",
       "<p>92 rows × 7 columns</p>\n",
       "</div>"
      ],
      "text/plain": [
       "     Z       Element      Z/A      I    Density  \\\n",
       "1    H      Hydrogen  0.99212   19.2   0.000084   \n",
       "2   He        Helium  0.49968   41.8   0.000166   \n",
       "3   Li       Lithium  0.43221   40.0   0.534000   \n",
       "4   Be     Beryllium  0.44384   63.7   1.848000   \n",
       "5    B         Boron  0.46245   76.0   2.370000   \n",
       "..  ..           ...      ...    ...        ...   \n",
       "88  Ra        Radium  0.38934  826.0   5.000000   \n",
       "89  Ac      Actinium  0.39202  841.0  10.070000   \n",
       "90  Th       Thorium  0.38787  847.0  11.720000   \n",
       "91  Pa  Protactinium  0.39388  878.0  15.370000   \n",
       "92   U       Uranium  0.38651  890.0  18.950000   \n",
       "\n",
       "                                                   mu  \\\n",
       "1   Energy\n",
       "1.00000E-03    7.21700\n",
       "1.50000E-03    2...   \n",
       "2   Energy\n",
       "1.00000E-03    60.84000\n",
       "1.50000E-03    ...   \n",
       "3   Energy\n",
       "1.00000E-03    233.90000\n",
       "1.50000E-03   ...   \n",
       "4   Energy\n",
       "1.00000E-03    604.10000\n",
       "1.50000E-03   ...   \n",
       "5   Energy\n",
       "1.00000E-03    1229.00000\n",
       "1.50000E-03  ...   \n",
       "..                                                ...   \n",
       "88  Energy\n",
       "1.00000E-03    6201.00000\n",
       "1.02840E-03  ...   \n",
       "89  Energy\n",
       "1.00000E-03    6469.00000\n",
       "1.03923E-03  ...   \n",
       "90  Energy\n",
       "1.00000E-03    6614.00000\n",
       "1.08088E-03  ...   \n",
       "91  Energy\n",
       "1.00000E-03    6530.00000\n",
       "1.00334E-03  ...   \n",
       "92  Energy\n",
       "1.00000E-03    6626.00000\n",
       "1.02220E-03  ...   \n",
       "\n",
       "                                                 muen  \n",
       "1   Energy\n",
       "1.00000E-03    6.820000\n",
       "1.50000E-03    ...  \n",
       "2   Energy\n",
       "1.00000E-03    60.450000\n",
       "1.50000E-03   ...  \n",
       "3   Energy\n",
       "1.00000E-03    233.500000\n",
       "1.50000E-03  ...  \n",
       "4   Energy\n",
       "1.00000E-03    603.500000\n",
       "1.50000E-03  ...  \n",
       "5   Energy\n",
       "1.00000E-03    1228.00000\n",
       "1.50000E-03  ...  \n",
       "..                                                ...  \n",
       "88  Energy\n",
       "1.00000E-03    6187.00000\n",
       "1.02840E-03  ...  \n",
       "89  Energy\n",
       "1.00000E-03    6455.00000\n",
       "1.03923E-03  ...  \n",
       "90  Energy\n",
       "1.00000E-03    6600.00000\n",
       "1.08088E-03  ...  \n",
       "91  Energy\n",
       "1.00000E-03    6515.00000\n",
       "1.00334E-03  ...  \n",
       "92  Energy\n",
       "1.00000E-03    6612.00000\n",
       "1.02220E-03  ...  \n",
       "\n",
       "[92 rows x 7 columns]"
      ]
     },
     "execution_count": 71,
     "metadata": {},
     "output_type": "execute_result"
    }
   ],
   "source": [
    "Material"
   ]
  },
  {
   "cell_type": "code",
   "execution_count": 29,
   "id": "cdc5a96e-bfaf-45d2-9fd3-274805001477",
   "metadata": {},
   "outputs": [
    {
     "ename": "NameError",
     "evalue": "name 'masscoefi' is not defined",
     "output_type": "error",
     "traceback": [
      "\u001b[0;31m---------------------------------------------------------------------------\u001b[0m",
      "\u001b[0;31mNameError\u001b[0m                                 Traceback (most recent call last)",
      "\u001b[0;32m/tmp/ipykernel_6442/2975731136.py\u001b[0m in \u001b[0;36m<module>\u001b[0;34m\u001b[0m\n\u001b[1;32m     14\u001b[0m     \u001b[0mB\u001b[0m\u001b[0;34m.\u001b[0m\u001b[0mdrop\u001b[0m\u001b[0;34m(\u001b[0m\u001b[0;34m'index'\u001b[0m\u001b[0;34m,\u001b[0m\u001b[0minplace\u001b[0m\u001b[0;34m=\u001b[0m\u001b[0;32mTrue\u001b[0m\u001b[0;34m,\u001b[0m\u001b[0maxis\u001b[0m\u001b[0;34m=\u001b[0m\u001b[0;36m1\u001b[0m\u001b[0;34m)\u001b[0m\u001b[0;34m\u001b[0m\u001b[0;34m\u001b[0m\u001b[0m\n\u001b[1;32m     15\u001b[0m     \u001b[0mB\u001b[0m\u001b[0;34m=\u001b[0m\u001b[0mB\u001b[0m\u001b[0;34m.\u001b[0m\u001b[0mset_index\u001b[0m\u001b[0;34m(\u001b[0m\u001b[0;34m'Energy'\u001b[0m\u001b[0;34m)\u001b[0m\u001b[0;34m\u001b[0m\u001b[0;34m\u001b[0m\u001b[0m\n\u001b[0;32m---> 16\u001b[0;31m     \u001b[0mmasscoefi\u001b[0m\u001b[0;34m[\u001b[0m\u001b[0mz\u001b[0m\u001b[0;34m]\u001b[0m\u001b[0;34m=\u001b[0m\u001b[0mB\u001b[0m\u001b[0;34m.\u001b[0m\u001b[0mastype\u001b[0m\u001b[0;34m(\u001b[0m\u001b[0mfloat\u001b[0m\u001b[0;34m)\u001b[0m\u001b[0;34m.\u001b[0m\u001b[0mto_dict\u001b[0m\u001b[0;34m(\u001b[0m\u001b[0;34m'series'\u001b[0m\u001b[0;34m)\u001b[0m\u001b[0;34m\u001b[0m\u001b[0;34m\u001b[0m\u001b[0m\n\u001b[0m",
      "\u001b[0;31mNameError\u001b[0m: name 'masscoefi' is not defined"
     ]
    }
   ],
   "source": [
    "for z,mass in zip(nombre,elementos):\n",
    "    url=mass\n",
    "    A=pd.read_html(url, flavor = 'bs4')[0]\n",
    "    \n",
    "    if (A[A.eq('Energy').any(1)][2].values[0]=='μ/ρ'):\n",
    "        A.dropna(subset = [0], inplace=True)\n",
    "        B=A[[0,2,4]]\n",
    "    else:\n",
    "        A.dropna(subset = [2], inplace=True)\n",
    "        B=A[[2,4,6]]\n",
    "    B = B[4:]\n",
    "    B.columns=['Energy','mu','muen']\n",
    "    B=B.reset_index()\n",
    "    B.drop('index',inplace=True,axis=1)\n",
    "    B=B.set_index('Energy')\n",
    "    masscoefi[z]=B.astype(float).to_dict('series')"
   ]
  },
  {
   "cell_type": "code",
   "execution_count": 30,
   "id": "bb72911e-eafa-415e-bec5-244460ce44b2",
   "metadata": {},
   "outputs": [],
   "source": [
    "url=xcom_elements[1]\n",
    "A=pd.read_html(url, flavor = 'bs4')[0]\n",
    "    \n",
    "if (A[A.eq('Energy').any(1)][2].values[0]=='μ/ρ'):\n",
    "    A.dropna(subset = [0], inplace=True)\n",
    "    B=A[[0,2,4]]\n",
    "else:\n",
    "    A.dropna(subset = [2], inplace=True)\n",
    "    B=A[[2,4,6]]\n",
    "B = B[4:]\n",
    "B.columns=['Energy','mu','muen']\n",
    "B=B.reset_index()\n",
    "B.drop('index',inplace=True,axis=1)\n",
    "B=B.set_index('Energy')"
   ]
  },
  {
   "cell_type": "code",
   "execution_count": 75,
   "id": "75c60fb1-bbbe-4ede-8832-6bd5ff1836ea",
   "metadata": {},
   "outputs": [],
   "source": [
    "Material.to_json('MassAttenuationCompounds.json',orient='index')"
   ]
  },
  {
   "cell_type": "code",
   "execution_count": 76,
   "id": "97c53cae-6783-4e6f-b115-c4dd507c3484",
   "metadata": {},
   "outputs": [
    {
     "ename": "TypeError",
     "evalue": "Object of type Series is not JSON serializable",
     "output_type": "error",
     "traceback": [
      "\u001b[0;31m---------------------------------------------------------------------------\u001b[0m",
      "\u001b[0;31mTypeError\u001b[0m                                 Traceback (most recent call last)",
      "\u001b[0;32m/tmp/ipykernel_6442/1500639704.py\u001b[0m in \u001b[0;36m<module>\u001b[0;34m\u001b[0m\n\u001b[1;32m      1\u001b[0m \u001b[0;32mimport\u001b[0m \u001b[0mjson\u001b[0m\u001b[0;34m\u001b[0m\u001b[0;34m\u001b[0m\u001b[0m\n\u001b[1;32m      2\u001b[0m \u001b[0;32mwith\u001b[0m \u001b[0mopen\u001b[0m\u001b[0;34m(\u001b[0m\u001b[0;34m'masscoefi.json'\u001b[0m\u001b[0;34m,\u001b[0m \u001b[0;34m'w'\u001b[0m\u001b[0;34m)\u001b[0m \u001b[0;32mas\u001b[0m \u001b[0mfp\u001b[0m\u001b[0;34m:\u001b[0m\u001b[0;34m\u001b[0m\u001b[0;34m\u001b[0m\u001b[0m\n\u001b[0;32m----> 3\u001b[0;31m     \u001b[0mjson\u001b[0m\u001b[0;34m.\u001b[0m\u001b[0mdump\u001b[0m\u001b[0;34m(\u001b[0m\u001b[0mMaterial\u001b[0m\u001b[0;34m.\u001b[0m\u001b[0mto_dict\u001b[0m\u001b[0;34m(\u001b[0m\u001b[0;34m'index'\u001b[0m\u001b[0;34m)\u001b[0m\u001b[0;34m,\u001b[0m \u001b[0mfp\u001b[0m\u001b[0;34m)\u001b[0m\u001b[0;34m\u001b[0m\u001b[0;34m\u001b[0m\u001b[0m\n\u001b[0m",
      "\u001b[0;32m~/miniconda3/envs/braqui/lib/python3.10/json/__init__.py\u001b[0m in \u001b[0;36mdump\u001b[0;34m(obj, fp, skipkeys, ensure_ascii, check_circular, allow_nan, cls, indent, separators, default, sort_keys, **kw)\u001b[0m\n\u001b[1;32m    177\u001b[0m     \u001b[0;31m# could accelerate with writelines in some versions of Python, at\u001b[0m\u001b[0;34m\u001b[0m\u001b[0;34m\u001b[0m\u001b[0m\n\u001b[1;32m    178\u001b[0m     \u001b[0;31m# a debuggability cost\u001b[0m\u001b[0;34m\u001b[0m\u001b[0;34m\u001b[0m\u001b[0m\n\u001b[0;32m--> 179\u001b[0;31m     \u001b[0;32mfor\u001b[0m \u001b[0mchunk\u001b[0m \u001b[0;32min\u001b[0m \u001b[0miterable\u001b[0m\u001b[0;34m:\u001b[0m\u001b[0;34m\u001b[0m\u001b[0;34m\u001b[0m\u001b[0m\n\u001b[0m\u001b[1;32m    180\u001b[0m         \u001b[0mfp\u001b[0m\u001b[0;34m.\u001b[0m\u001b[0mwrite\u001b[0m\u001b[0;34m(\u001b[0m\u001b[0mchunk\u001b[0m\u001b[0;34m)\u001b[0m\u001b[0;34m\u001b[0m\u001b[0;34m\u001b[0m\u001b[0m\n\u001b[1;32m    181\u001b[0m \u001b[0;34m\u001b[0m\u001b[0m\n",
      "\u001b[0;32m~/miniconda3/envs/braqui/lib/python3.10/json/encoder.py\u001b[0m in \u001b[0;36m_iterencode\u001b[0;34m(o, _current_indent_level)\u001b[0m\n\u001b[1;32m    429\u001b[0m             \u001b[0;32myield\u001b[0m \u001b[0;32mfrom\u001b[0m \u001b[0m_iterencode_list\u001b[0m\u001b[0;34m(\u001b[0m\u001b[0mo\u001b[0m\u001b[0;34m,\u001b[0m \u001b[0m_current_indent_level\u001b[0m\u001b[0;34m)\u001b[0m\u001b[0;34m\u001b[0m\u001b[0;34m\u001b[0m\u001b[0m\n\u001b[1;32m    430\u001b[0m         \u001b[0;32melif\u001b[0m \u001b[0misinstance\u001b[0m\u001b[0;34m(\u001b[0m\u001b[0mo\u001b[0m\u001b[0;34m,\u001b[0m \u001b[0mdict\u001b[0m\u001b[0;34m)\u001b[0m\u001b[0;34m:\u001b[0m\u001b[0;34m\u001b[0m\u001b[0;34m\u001b[0m\u001b[0m\n\u001b[0;32m--> 431\u001b[0;31m             \u001b[0;32myield\u001b[0m \u001b[0;32mfrom\u001b[0m \u001b[0m_iterencode_dict\u001b[0m\u001b[0;34m(\u001b[0m\u001b[0mo\u001b[0m\u001b[0;34m,\u001b[0m \u001b[0m_current_indent_level\u001b[0m\u001b[0;34m)\u001b[0m\u001b[0;34m\u001b[0m\u001b[0;34m\u001b[0m\u001b[0m\n\u001b[0m\u001b[1;32m    432\u001b[0m         \u001b[0;32melse\u001b[0m\u001b[0;34m:\u001b[0m\u001b[0;34m\u001b[0m\u001b[0;34m\u001b[0m\u001b[0m\n\u001b[1;32m    433\u001b[0m             \u001b[0;32mif\u001b[0m \u001b[0mmarkers\u001b[0m \u001b[0;32mis\u001b[0m \u001b[0;32mnot\u001b[0m \u001b[0;32mNone\u001b[0m\u001b[0;34m:\u001b[0m\u001b[0;34m\u001b[0m\u001b[0;34m\u001b[0m\u001b[0m\n",
      "\u001b[0;32m~/miniconda3/envs/braqui/lib/python3.10/json/encoder.py\u001b[0m in \u001b[0;36m_iterencode_dict\u001b[0;34m(dct, _current_indent_level)\u001b[0m\n\u001b[1;32m    403\u001b[0m                 \u001b[0;32melse\u001b[0m\u001b[0;34m:\u001b[0m\u001b[0;34m\u001b[0m\u001b[0;34m\u001b[0m\u001b[0m\n\u001b[1;32m    404\u001b[0m                     \u001b[0mchunks\u001b[0m \u001b[0;34m=\u001b[0m \u001b[0m_iterencode\u001b[0m\u001b[0;34m(\u001b[0m\u001b[0mvalue\u001b[0m\u001b[0;34m,\u001b[0m \u001b[0m_current_indent_level\u001b[0m\u001b[0;34m)\u001b[0m\u001b[0;34m\u001b[0m\u001b[0;34m\u001b[0m\u001b[0m\n\u001b[0;32m--> 405\u001b[0;31m                 \u001b[0;32myield\u001b[0m \u001b[0;32mfrom\u001b[0m \u001b[0mchunks\u001b[0m\u001b[0;34m\u001b[0m\u001b[0;34m\u001b[0m\u001b[0m\n\u001b[0m\u001b[1;32m    406\u001b[0m         \u001b[0;32mif\u001b[0m \u001b[0mnewline_indent\u001b[0m \u001b[0;32mis\u001b[0m \u001b[0;32mnot\u001b[0m \u001b[0;32mNone\u001b[0m\u001b[0;34m:\u001b[0m\u001b[0;34m\u001b[0m\u001b[0;34m\u001b[0m\u001b[0m\n\u001b[1;32m    407\u001b[0m             \u001b[0m_current_indent_level\u001b[0m \u001b[0;34m-=\u001b[0m \u001b[0;36m1\u001b[0m\u001b[0;34m\u001b[0m\u001b[0;34m\u001b[0m\u001b[0m\n",
      "\u001b[0;32m~/miniconda3/envs/braqui/lib/python3.10/json/encoder.py\u001b[0m in \u001b[0;36m_iterencode_dict\u001b[0;34m(dct, _current_indent_level)\u001b[0m\n\u001b[1;32m    403\u001b[0m                 \u001b[0;32melse\u001b[0m\u001b[0;34m:\u001b[0m\u001b[0;34m\u001b[0m\u001b[0;34m\u001b[0m\u001b[0m\n\u001b[1;32m    404\u001b[0m                     \u001b[0mchunks\u001b[0m \u001b[0;34m=\u001b[0m \u001b[0m_iterencode\u001b[0m\u001b[0;34m(\u001b[0m\u001b[0mvalue\u001b[0m\u001b[0;34m,\u001b[0m \u001b[0m_current_indent_level\u001b[0m\u001b[0;34m)\u001b[0m\u001b[0;34m\u001b[0m\u001b[0;34m\u001b[0m\u001b[0m\n\u001b[0;32m--> 405\u001b[0;31m                 \u001b[0;32myield\u001b[0m \u001b[0;32mfrom\u001b[0m \u001b[0mchunks\u001b[0m\u001b[0;34m\u001b[0m\u001b[0;34m\u001b[0m\u001b[0m\n\u001b[0m\u001b[1;32m    406\u001b[0m         \u001b[0;32mif\u001b[0m \u001b[0mnewline_indent\u001b[0m \u001b[0;32mis\u001b[0m \u001b[0;32mnot\u001b[0m \u001b[0;32mNone\u001b[0m\u001b[0;34m:\u001b[0m\u001b[0;34m\u001b[0m\u001b[0;34m\u001b[0m\u001b[0m\n\u001b[1;32m    407\u001b[0m             \u001b[0m_current_indent_level\u001b[0m \u001b[0;34m-=\u001b[0m \u001b[0;36m1\u001b[0m\u001b[0;34m\u001b[0m\u001b[0;34m\u001b[0m\u001b[0m\n",
      "\u001b[0;32m~/miniconda3/envs/braqui/lib/python3.10/json/encoder.py\u001b[0m in \u001b[0;36m_iterencode\u001b[0;34m(o, _current_indent_level)\u001b[0m\n\u001b[1;32m    436\u001b[0m                     \u001b[0;32mraise\u001b[0m \u001b[0mValueError\u001b[0m\u001b[0;34m(\u001b[0m\u001b[0;34m\"Circular reference detected\"\u001b[0m\u001b[0;34m)\u001b[0m\u001b[0;34m\u001b[0m\u001b[0;34m\u001b[0m\u001b[0m\n\u001b[1;32m    437\u001b[0m                 \u001b[0mmarkers\u001b[0m\u001b[0;34m[\u001b[0m\u001b[0mmarkerid\u001b[0m\u001b[0;34m]\u001b[0m \u001b[0;34m=\u001b[0m \u001b[0mo\u001b[0m\u001b[0;34m\u001b[0m\u001b[0;34m\u001b[0m\u001b[0m\n\u001b[0;32m--> 438\u001b[0;31m             \u001b[0mo\u001b[0m \u001b[0;34m=\u001b[0m \u001b[0m_default\u001b[0m\u001b[0;34m(\u001b[0m\u001b[0mo\u001b[0m\u001b[0;34m)\u001b[0m\u001b[0;34m\u001b[0m\u001b[0;34m\u001b[0m\u001b[0m\n\u001b[0m\u001b[1;32m    439\u001b[0m             \u001b[0;32myield\u001b[0m \u001b[0;32mfrom\u001b[0m \u001b[0m_iterencode\u001b[0m\u001b[0;34m(\u001b[0m\u001b[0mo\u001b[0m\u001b[0;34m,\u001b[0m \u001b[0m_current_indent_level\u001b[0m\u001b[0;34m)\u001b[0m\u001b[0;34m\u001b[0m\u001b[0;34m\u001b[0m\u001b[0m\n\u001b[1;32m    440\u001b[0m             \u001b[0;32mif\u001b[0m \u001b[0mmarkers\u001b[0m \u001b[0;32mis\u001b[0m \u001b[0;32mnot\u001b[0m \u001b[0;32mNone\u001b[0m\u001b[0;34m:\u001b[0m\u001b[0;34m\u001b[0m\u001b[0;34m\u001b[0m\u001b[0m\n",
      "\u001b[0;32m~/miniconda3/envs/braqui/lib/python3.10/json/encoder.py\u001b[0m in \u001b[0;36mdefault\u001b[0;34m(self, o)\u001b[0m\n\u001b[1;32m    177\u001b[0m \u001b[0;34m\u001b[0m\u001b[0m\n\u001b[1;32m    178\u001b[0m         \"\"\"\n\u001b[0;32m--> 179\u001b[0;31m         raise TypeError(f'Object of type {o.__class__.__name__} '\n\u001b[0m\u001b[1;32m    180\u001b[0m                         f'is not JSON serializable')\n\u001b[1;32m    181\u001b[0m \u001b[0;34m\u001b[0m\u001b[0m\n",
      "\u001b[0;31mTypeError\u001b[0m: Object of type Series is not JSON serializable"
     ]
    }
   ],
   "source": [
    "import json\n",
    "with open('masscoefi.json', 'w') as fp:\n",
    "    json.dump(Material.to_dict('index'), fp)"
   ]
  },
  {
   "cell_type": "code",
   "execution_count": null,
   "id": "f457a181-cb8e-4143-b0ae-76d09564433f",
   "metadata": {},
   "outputs": [],
   "source": []
  }
 ],
 "metadata": {
  "kernelspec": {
   "display_name": "Braqui",
   "language": "python",
   "name": "braqui"
  },
  "language_info": {
   "codemirror_mode": {
    "name": "ipython",
    "version": 3
   },
   "file_extension": ".py",
   "mimetype": "text/x-python",
   "name": "python",
   "nbconvert_exporter": "python",
   "pygments_lexer": "ipython3",
   "version": "3.10.2"
  }
 },
 "nbformat": 4,
 "nbformat_minor": 5
}
